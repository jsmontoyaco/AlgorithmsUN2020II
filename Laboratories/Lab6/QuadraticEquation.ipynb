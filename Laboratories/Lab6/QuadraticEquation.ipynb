{
  "nbformat": 4,
  "nbformat_minor": 0,
  "metadata": {
    "colab": {
      "name": "QuadraticEquation.ipynb",
      "provenance": []
    },
    "kernelspec": {
      "name": "python3",
      "display_name": "Python 3"
    }
  },
  "cells": [
    {
      "cell_type": "markdown",
      "metadata": {
        "id": "PCwwZb9sjxcF"
      },
      "source": [
        "# Laboratorio 6 Ecuación Cuadrática - Método Clásico y Po Shen Loh\n",
        "Juan Sebastian Montoya Combita"
      ]
    },
    {
      "cell_type": "code",
      "metadata": {
        "id": "Qx-_95CMjmOG"
      },
      "source": [
        "import math\n",
        "import matplotlib.pyplot as plt\n",
        "import numpy as np\n",
        "from sympy import *"
      ],
      "execution_count": 1,
      "outputs": []
    },
    {
      "cell_type": "code",
      "metadata": {
        "id": "BUTfNb-_p9r_"
      },
      "source": [
        "def f(x, e): #f(x,e) e es el número de las funciones establecidas para los demás puntos\n",
        "  if (e==0):\n",
        "    return (x**2)\n",
        "  elif (e==1):\n",
        "    return ((x-1)**2)\n",
        "  elif (e==2):\n",
        "    return ((x**2)-1)\n",
        "  elif (e==3):\n",
        "    return ((x**2)+1)\n",
        "  else:\n",
        "    print(\"Valor incorrecto\")"
      ],
      "execution_count": 2,
      "outputs": []
    },
    {
      "cell_type": "code",
      "metadata": {
        "id": "rkqDl0Rb6bSX"
      },
      "source": [
        "def df(z, de): #función de las derivadas de las funciones\n",
        "  if (de==0):\n",
        "    return (2*z)\n",
        "  elif (de==1):\n",
        "    return (2*z-2) "
      ],
      "execution_count": 3,
      "outputs": []
    },
    {
      "cell_type": "code",
      "metadata": {
        "id": "ywwP-LrHMmRS"
      },
      "source": [
        "def graficar(liminf,limsup,inter,titulo, e): # función para hacer las, los parámetros de ingreso son límite inferior de la función, límite superior, y el intervalo de evaluación de fx, recibe un string llamado titulo para la gráfica y e será usada en f(x)\n",
        "  x = np.linspace(liminf,limsup,inter)\n",
        "  fig, ax = plt.subplots()\n",
        "  ax.plot(x,f(x,e))\n",
        "  ax.axhline(y=0, color='k')\n",
        "  ax.axvline(x=0, color='k')\n",
        "  ax.grid(True, which='both')\n",
        "  plt.title(titulo)\n",
        "  plt.xlabel('x')\n",
        "  plt.ylabel('f(x)')"
      ],
      "execution_count": 4,
      "outputs": []
    },
    {
      "cell_type": "code",
      "metadata": {
        "id": "m9DxSKhLH445"
      },
      "source": [
        "def display1(e,de,titulo,z_c_r=0, z_c_i=0, zh = 1, zw=1, width=500, height=500, zoom=1,  niter=256):\n",
        "    \"\"\" Display a newton-raphson fractal \"\"\"\n",
        "    print(\"Z region from (\",z_c_r+ (((0-(width/2))/width)*zw*zoom),\",\",z_c_i+(((0-(height/2))/height)*zh*zoom) ,\") to (\",z_c_r+ (((width-(width/2))/width)*zw*zoom),\",\",z_c_i+(((height-(height/2))/height)*zh*zoom),\")\")\n",
        "    pimg = newton_set1(e, de,z_c_r=z_c_r, z_c_i=z_c_i, zh = zh, zw=zw, width=width, height=width, zoom=zoom,  niter=niter)\n",
        "    plt.title('Newton Fractal f(z)='+titulo)\n",
        "    plt.xlabel(\"real\"+\"(\"+ str(z_c_r+ (((0-(width/2))/width)*zw*zoom))+\",\"+str(z_c_r+ (((width-(width/2))/width)*zw*zoom))+\")\")\n",
        "    plt.ylabel(\"imaginary\"+\"(\"+str(z_c_i+(((0-(height/2))/height)*zh*zoom))+\",\"+str(z_c_i+(((height-(height/2))/height)*zh*zoom)) +\")\")\n",
        "    plt.imshow(pimg)\n",
        "    plt.show()"
      ],
      "execution_count": 5,
      "outputs": []
    },
    {
      "cell_type": "markdown",
      "metadata": {
        "id": "l3pUIrLdpXoE"
      },
      "source": [
        "\n",
        "Modifique el siguiente código de Python el cual implementa los métodos clásicos y Po Shen Lo' s para la solución de ecuaciones cuadráticas y:\n",
        "1.   Grafique las siguientes funciones dentro de un rango en x que incluya las raices (si hay) y el vértice.\n",
        "\n",
        "\n",
        "\n",
        "\n"
      ]
    },
    {
      "cell_type": "markdown",
      "metadata": {
        "id": "vj9KGK79p-ub"
      },
      "source": [
        "*   $x^2$\n"
      ]
    },
    {
      "cell_type": "code",
      "metadata": {
        "id": "iNuoAT1cIlpZ",
        "outputId": "48109751-228d-4ed5-aaab-6f2baf867456",
        "colab": {
          "base_uri": "https://localhost:8080/",
          "height": 295
        }
      },
      "source": [
        "titulo='f(x)=x^2'\n",
        "graficar(-6,6,100, titulo, 0)"
      ],
      "execution_count": 6,
      "outputs": [
        {
          "output_type": "display_data",
          "data": {
            "image/png": "[encoded data removed]",
            "text/plain": [
              "<Figure size 432x288 with 1 Axes>"
            ]
          },
          "metadata": {
            "tags": [],
            "needs_background": "light"
          }
        }
      ]
    },
    {
      "cell_type": "markdown",
      "metadata": {
        "id": "iaBP5ln_QYtq"
      },
      "source": [
        "\n",
        "\n",
        "*   $(x-1)^2$\n",
        "\n"
      ]
    },
    {
      "cell_type": "code",
      "metadata": {
        "id": "0qtguPLHQddh",
        "outputId": "6c26b591-5254-4dff-dacb-c714ca57e01f",
        "colab": {
          "base_uri": "https://localhost:8080/",
          "height": 295
        }
      },
      "source": [
        "titulo='f(x)=(x-1)^2'\n",
        "graficar(-3,5,100, titulo, 1)"
      ],
      "execution_count": 7,
      "outputs": [
        {
          "output_type": "display_data",
          "data": {
            "image/png": "[encoded data removed]",
            "text/plain": [
              "<Figure size 432x288 with 1 Axes>"
            ]
          },
          "metadata": {
            "tags": [],
            "needs_background": "light"
          }
        }
      ]
    },
    {
      "cell_type": "markdown",
      "metadata": {
        "id": "eK-wo5LKRsZn"
      },
      "source": [
        "\n",
        "\n",
        "*   $x^2-1$\n",
        "\n"
      ]
    },
    {
      "cell_type": "code",
      "metadata": {
        "id": "xl9BLkaJRxHc",
        "outputId": "913bcd58-60a5-4440-f11c-03270d4c0954",
        "colab": {
          "base_uri": "https://localhost:8080/",
          "height": 295
        }
      },
      "source": [
        "titulo='f(x)=x^2 -1'\n",
        "graficar(-4,4,100, titulo, 2)"
      ],
      "execution_count": 8,
      "outputs": [
        {
          "output_type": "display_data",
          "data": {
            "image/png": "[encoded data removed]",
            "text/plain": [
              "<Figure size 432x288 with 1 Axes>"
            ]
          },
          "metadata": {
            "tags": [],
            "needs_background": "light"
          }
        }
      ]
    },
    {
      "cell_type": "markdown",
      "metadata": {
        "id": "HOEHaWolSx2a"
      },
      "source": [
        "\n",
        "\n",
        "*   $x^2+1$\n",
        "\n"
      ]
    },
    {
      "cell_type": "code",
      "metadata": {
        "id": "gOPDr3VmS3S0",
        "outputId": "696d5987-97b3-4b07-a214-40985a1a6906",
        "colab": {
          "base_uri": "https://localhost:8080/",
          "height": 295
        }
      },
      "source": [
        "titulo='f(x)=x^2 +1'\n",
        "graficar(-2,2,100, titulo, 3)"
      ],
      "execution_count": 9,
      "outputs": [
        {
          "output_type": "display_data",
          "data": {
            "image/png": "[encoded data removed]",
            "text/plain": [
              "<Figure size 432x288 with 1 Axes>"
            ]
          },
          "metadata": {
            "tags": [],
            "needs_background": "light"
          }
        }
      ]
    },
    {
      "cell_type": "markdown",
      "metadata": {
        "id": "jI_5h2burQEr"
      },
      "source": [
        "2.   Aplique los métodos Clásicos y de Po Shen Loh ‘s para solucionar las siguientes ecuaciones cuadráticas. \n",
        "\n"
      ]
    },
    {
      "cell_type": "code",
      "metadata": {
        "id": "iDT7owXvrw93"
      },
      "source": [
        "x = Symbol('x')"
      ],
      "execution_count": 10,
      "outputs": []
    },
    {
      "cell_type": "markdown",
      "metadata": {
        "id": "f2y49W7XCi1f"
      },
      "source": [
        "Función intermedia para la extracción de coeficientes"
      ]
    },
    {
      "cell_type": "code",
      "metadata": {
        "id": "7DGq7uNcCnAi"
      },
      "source": [
        "def extcoef(polinomio, excepcion):  #el argumento excepcion sirve para la correcta distribución de coeficiente de ecuaciones de la forma x^2+C donde B=0\n",
        "  coeficientes= polinomio.coeffs() #extrae los coeficientes\n",
        "  if (len(coeficientes)==1):\n",
        "    coeficientes= np.array([coeficientes[0], 0 , 0]) # en caso de tener ecuación de la forma x^2, llenará los sigueintes coeficientes con 0\n",
        "  elif (len(coeficientes)==2):\n",
        "    if (excepcion == True):\n",
        "      coeficientes = np.array([coeficientes[0],0,coeficientes[1]]) # caso ecuación x^2 + C\n",
        "    else:\n",
        "      coeficientes = np.array([coeficientes[0], coeficientes[1], 0]) # en caso de tener ecuación de la forma x^2+BX, llenará el coeficiente C con 0\n",
        "  return (coeficientes)"
      ],
      "execution_count": 11,
      "outputs": []
    },
    {
      "cell_type": "markdown",
      "metadata": {
        "id": "P1_KcMSw4YPF"
      },
      "source": [
        "Programación del Método de Po Shen Loh para ecuaciones de la forma $x^2+Bx+C$"
      ]
    },
    {
      "cell_type": "code",
      "metadata": {
        "id": "luRxtfFf4hqz"
      },
      "source": [
        "def poshenlo(ecuacion, excepcion):\n",
        "  coeficientes= extcoef(ecuacion, excepcion)\n",
        "  centro= (-coeficientes[1])/2\n",
        "  rsolucion= centro**2 - coeficientes[2] # solución a la ecuación de centro al cuadrado, la variable sirve para determinar si tiene solución real o no\n",
        "  if (rsolucion<0):\n",
        "    print(\"La ecuación no tiene solución real\")\n",
        "    return \n",
        "  u1= centro + math.sqrt(rsolucion)\n",
        "  u2= centro - math.sqrt(rsolucion)\n",
        "  if (u1 == u2):\n",
        "    return (u1)\n",
        "  return (u1, u2)"
      ],
      "execution_count": 12,
      "outputs": []
    },
    {
      "cell_type": "markdown",
      "metadata": {
        "id": "Tu-1ew3_BdbQ"
      },
      "source": [
        "Programación de la solución cuadrática con la fórmula clásica: $\\frac{-b \\pm \\sqrt{b^2-4ac}}{2a}$"
      ]
    },
    {
      "cell_type": "code",
      "metadata": {
        "id": "HN1XmJr7B8JJ"
      },
      "source": [
        "def clasica(ecuacion, excepcion):\n",
        "  coeficientes= coeficientes= extcoef(ecuacion, excepcion)\n",
        "  rsol= coeficientes[1]**2 - (4*coeficientes[0]*coeficientes[2])\n",
        "  if (rsol<0):\n",
        "    print(\"La ecuación no tiene solución real\")\n",
        "    return\n",
        "  solucion1= (-coeficientes[1] + math.sqrt(rsol))/(2*coeficientes[0])\n",
        "  solucion2= (-coeficientes[1] - math.sqrt(rsol))/(2*coeficientes[0])\n",
        "  if (solucion1==solucion2):\n",
        "    return (solucion1)\n",
        "  return (solucion1, solucion2)\n"
      ],
      "execution_count": 13,
      "outputs": []
    },
    {
      "cell_type": "markdown",
      "metadata": {
        "id": "P2_5l_kcrmJK"
      },
      "source": [
        "\n",
        "\n",
        "*   $x^2=0$\n",
        "\n"
      ]
    },
    {
      "cell_type": "markdown",
      "metadata": {
        "id": "kKMmPSZRf_NF"
      },
      "source": [
        "Solución por método Po Shen Loh"
      ]
    },
    {
      "cell_type": "code",
      "metadata": {
        "id": "DcXzAr5bgmYF"
      },
      "source": [
        "polinomio= Poly(x**2, x) #define una ecuación como un polinomio con la variable simbólica x"
      ],
      "execution_count": 14,
      "outputs": []
    },
    {
      "cell_type": "code",
      "metadata": {
        "id": "uCBQxZbABc5v",
        "outputId": "699a1238-b5a9-4314-8833-b5d8d66116b6",
        "colab": {
          "base_uri": "https://localhost:8080/"
        }
      },
      "source": [
        "psloh=poshenlo(polinomio, False)\n",
        "psloh"
      ],
      "execution_count": 15,
      "outputs": [
        {
          "output_type": "execute_result",
          "data": {
            "text/plain": [
              "0.0"
            ]
          },
          "metadata": {
            "tags": []
          },
          "execution_count": 15
        }
      ]
    },
    {
      "cell_type": "markdown",
      "metadata": {
        "id": "HA8pdmqBgVxk"
      },
      "source": [
        "Solución por método clásico"
      ]
    },
    {
      "cell_type": "code",
      "metadata": {
        "id": "b3b2UiBZgkNJ",
        "outputId": "9f58d56a-d70b-410c-ff99-15256c97b6cd",
        "colab": {
          "base_uri": "https://localhost:8080/"
        }
      },
      "source": [
        "cuadratica=clasica(polinomio, False)\n",
        "cuadratica"
      ],
      "execution_count": 16,
      "outputs": [
        {
          "output_type": "execute_result",
          "data": {
            "text/plain": [
              "0"
            ]
          },
          "metadata": {
            "tags": []
          },
          "execution_count": 16
        }
      ]
    },
    {
      "cell_type": "markdown",
      "metadata": {
        "id": "TQ0AGsgfiqxB"
      },
      "source": [
        "\n",
        "\n",
        "*   $(x-1)^2=0 \\rightarrow x^2-2x+1=0$\n",
        "\n"
      ]
    },
    {
      "cell_type": "code",
      "metadata": {
        "id": "xKMV3VStixw7"
      },
      "source": [
        "polinomio=Poly(x**2-(2*x)+1,x)"
      ],
      "execution_count": 17,
      "outputs": []
    },
    {
      "cell_type": "markdown",
      "metadata": {
        "id": "y6dCl7NkjAn_"
      },
      "source": [
        "Solución por método Po Shen Loh"
      ]
    },
    {
      "cell_type": "code",
      "metadata": {
        "id": "kkQ9IBAYjhH9",
        "outputId": "8c822564-d0f1-4386-a250-b1cecaeabc5d",
        "colab": {
          "base_uri": "https://localhost:8080/"
        }
      },
      "source": [
        "psloh=poshenlo(polinomio, False)\n",
        "psloh"
      ],
      "execution_count": 18,
      "outputs": [
        {
          "output_type": "execute_result",
          "data": {
            "text/plain": [
              "1.00000000000000"
            ]
          },
          "metadata": {
            "tags": []
          },
          "execution_count": 18
        }
      ]
    },
    {
      "cell_type": "markdown",
      "metadata": {
        "id": "K1rzp-6aoVbv"
      },
      "source": [
        "Solución por método clásico"
      ]
    },
    {
      "cell_type": "code",
      "metadata": {
        "id": "oJbTd2o3lcNo",
        "outputId": "6292e31c-3d48-4b2d-d61d-df7e2adc6bab",
        "colab": {
          "base_uri": "https://localhost:8080/"
        }
      },
      "source": [
        "cuadratica=clasica(polinomio, False)\n",
        "cuadratica"
      ],
      "execution_count": 19,
      "outputs": [
        {
          "output_type": "execute_result",
          "data": {
            "text/plain": [
              "1.00000000000000"
            ]
          },
          "metadata": {
            "tags": []
          },
          "execution_count": 19
        }
      ]
    },
    {
      "cell_type": "markdown",
      "metadata": {
        "id": "MFZo9-YcoZR3"
      },
      "source": [
        "\n",
        "\n",
        "*   $x^2-1=0$\n",
        "\n"
      ]
    },
    {
      "cell_type": "code",
      "metadata": {
        "id": "Rc08QIN8oY6b"
      },
      "source": [
        "polinomio=Poly((x**2-1),x)\n"
      ],
      "execution_count": 20,
      "outputs": []
    },
    {
      "cell_type": "markdown",
      "metadata": {
        "id": "r8sGRz2N4a1-"
      },
      "source": [
        "Solución por método de Po Shen Loh"
      ]
    },
    {
      "cell_type": "code",
      "metadata": {
        "id": "bn9nHiqG4UQA",
        "outputId": "09854778-b216-4ca7-a63a-d7ddcc33930b",
        "colab": {
          "base_uri": "https://localhost:8080/"
        }
      },
      "source": [
        "poshenlo(polinomio, True)"
      ],
      "execution_count": 21,
      "outputs": [
        {
          "output_type": "execute_result",
          "data": {
            "text/plain": [
              "(1.0, -1.0)"
            ]
          },
          "metadata": {
            "tags": []
          },
          "execution_count": 21
        }
      ]
    },
    {
      "cell_type": "markdown",
      "metadata": {
        "id": "48Pjs-XQ4qC3"
      },
      "source": [
        "Solución por método clásico"
      ]
    },
    {
      "cell_type": "code",
      "metadata": {
        "id": "P15m9FajzuHc",
        "outputId": "679e6d18-9cee-4787-f5fd-0abb26bb52f0",
        "colab": {
          "base_uri": "https://localhost:8080/"
        }
      },
      "source": [
        "clasica(polinomio, True)"
      ],
      "execution_count": 22,
      "outputs": [
        {
          "output_type": "execute_result",
          "data": {
            "text/plain": [
              "(1.00000000000000, -1.00000000000000)"
            ]
          },
          "metadata": {
            "tags": []
          },
          "execution_count": 22
        }
      ]
    },
    {
      "cell_type": "markdown",
      "metadata": {
        "id": "AmVs-9Xc4www"
      },
      "source": [
        "\n",
        "\n",
        "*   $x^2+1=0$\n",
        "\n"
      ]
    },
    {
      "cell_type": "code",
      "metadata": {
        "id": "oZ3qUvZY4310"
      },
      "source": [
        "polinomio=Poly((x**2+1),x)"
      ],
      "execution_count": 23,
      "outputs": []
    },
    {
      "cell_type": "markdown",
      "metadata": {
        "id": "MxFbqwNK5jRb"
      },
      "source": [
        "Solución por método de Po Shen Loh"
      ]
    },
    {
      "cell_type": "code",
      "metadata": {
        "id": "Gejghhso5ogx",
        "outputId": "13c6d2e1-5393-4e49-ac81-9ffa8c88006f",
        "colab": {
          "base_uri": "https://localhost:8080/"
        }
      },
      "source": [
        "poshenlo(polinomio, True)"
      ],
      "execution_count": 24,
      "outputs": [
        {
          "output_type": "stream",
          "text": [
            "La ecuación no tiene solución real\n"
          ],
          "name": "stdout"
        }
      ]
    },
    {
      "cell_type": "markdown",
      "metadata": {
        "id": "CFBcbyd65uxP"
      },
      "source": [
        "Solución por método clásico"
      ]
    },
    {
      "cell_type": "code",
      "metadata": {
        "id": "VWZSP8Qz5tbV",
        "outputId": "857aa8c6-15b0-4f01-e1c6-a672204cee36",
        "colab": {
          "base_uri": "https://localhost:8080/"
        }
      },
      "source": [
        "clasica(polinomio, True)"
      ],
      "execution_count": 25,
      "outputs": [
        {
          "output_type": "stream",
          "text": [
            "La ecuación no tiene solución real\n"
          ],
          "name": "stdout"
        }
      ]
    },
    {
      "cell_type": "markdown",
      "metadata": {
        "id": "rBrmrSxJ6b5T"
      },
      "source": [
        "\n",
        "\n",
        "3.   Grafique los siguientes polinomios complejos como fractales de Newton\n",
        "\n"
      ]
    },
    {
      "cell_type": "markdown",
      "metadata": {
        "id": "5iTgtr0R7PNl"
      },
      "source": [
        "\n",
        "\n",
        "*   $z^2$\n",
        "\n"
      ]
    },
    {
      "cell_type": "code",
      "metadata": {
        "id": "J6cxLaxLC4EK"
      },
      "source": [
        "def newton_set1(e, de,z_c_r=0, z_c_i=0, zh = 5, zw=5, width=500, height=500, zoom=1,  niter=256):\n",
        "    \"\"\" Fractals using newton-raphson \"\"\"\n",
        "\n",
        "    # Pixels array\n",
        "    pixels = np.arange(width*height*3, dtype=np.uint32).reshape(height, width, 3)\n",
        "\n",
        "    h = 1e-7 # step size for numerical derivative\n",
        "    eps = 1e-3 # max error allowed\n",
        "\n",
        "    # Bounding roots\n",
        "    r1 = 0\n",
        "\n",
        "\n",
        "    # Color multiplication factor\n",
        "    # NOTE: Increasing this darkens the image and lightens it otherwise\n",
        "    multcol = 5\n",
        "\n",
        "    for y in range(height):\n",
        "            zy =   z_c_i+(((y-(height/2))/height)*zh*zoom)\n",
        "\n",
        "            for x in range(width):\n",
        "                zx = z_c_r+ (((x-(width/2))/width)*zw*zoom)\n",
        "\n",
        "                # Mapping real -> complex plane\n",
        "                z = complex(zx, zy)\n",
        "                \n",
        "                count = 0\n",
        "                \n",
        "                for i in range(niter):\n",
        "                    # complex numerical derivative\n",
        "                    dz = df(z,de)\n",
        "                    if dz == 0:\n",
        "                        break\n",
        "\n",
        "                    count += 1\n",
        "                    if count > 255:\n",
        "                        break\n",
        "                   \n",
        "                    znext = z - f(z,e) / dz # Newton iteration\n",
        "\n",
        "                    if abs(znext - z) < eps: # stop when close enough to any root\n",
        "                        break\n",
        "                    \n",
        "                    z = znext\n",
        "\n",
        "                # Pixels colored using the roots\n",
        "                if abs(z-r1)<eps:\n",
        "                    # color red\n",
        "                    pixels[height-y-1,x] = (255 - count*multcol, 0, 0)\n",
        "                else:   \n",
        "                    pixels[height-y-1,x] = (0, 0, 0)\n",
        " \n",
        "    return pixels"
      ],
      "execution_count": 26,
      "outputs": []
    },
    {
      "cell_type": "code",
      "metadata": {
        "id": "THFtj_A_HXdl",
        "outputId": "61f5639b-995b-4ddd-8511-8dc332dafdc3",
        "colab": {
          "base_uri": "https://localhost:8080/",
          "height": 607
        }
      },
      "source": [
        "display1(0,0,\"z**2\",zoom=1/10)\n",
        "display1(0,0,\"z**2\",zoom=1/100)"
      ],
      "execution_count": 27,
      "outputs": [
        {
          "output_type": "stream",
          "text": [
            "Z region from ( -0.05 , -0.05 ) to ( 0.05 , 0.05 )\n"
          ],
          "name": "stdout"
        },
        {
          "output_type": "display_data",
          "data": {
            "image/png": "[encoded data removed]",
            "text/plain": [
              "<Figure size 432x288 with 1 Axes>"
            ]
          },
          "metadata": {
            "tags": [],
            "needs_background": "light"
          }
        },
        {
          "output_type": "stream",
          "text": [
            "Z region from ( -0.005 , -0.005 ) to ( 0.005 , 0.005 )\n"
          ],
          "name": "stdout"
        },
        {
          "output_type": "display_data",
          "data": {
            "image/png": "[encoded data removed]",
            "text/plain": [
              "<Figure size 432x288 with 1 Axes>"
            ]
          },
          "metadata": {
            "tags": [],
            "needs_background": "light"
          }
        }
      ]
    },
    {
      "cell_type": "markdown",
      "metadata": {
        "id": "TPuM3oIrHvTP"
      },
      "source": [
        "\n",
        "\n",
        "*   $(z-1)^2$\n",
        "\n"
      ]
    },
    {
      "cell_type": "code",
      "metadata": {
        "id": "r76YcZx5O955"
      },
      "source": [
        "def newton_set1(e, de,z_c_r=0, z_c_i=0, zh = 5, zw=5, width=500, height=500, zoom=1,  niter=256):\n",
        "    \"\"\" Fractals using newton-raphson \"\"\"\n",
        "\n",
        "    # Pixels array\n",
        "    pixels = np.arange(width*height*3, dtype=np.uint32).reshape(height, width, 3)\n",
        "\n",
        "    h = 1e-7 # step size for numerical derivative\n",
        "    eps = 1e-3 # max error allowed\n",
        "\n",
        "    # Bounding roots\n",
        "    r1 = 1\n",
        "\n",
        "\n",
        "    # Color multiplication factor\n",
        "    # NOTE: Increasing this darkens the image and lightens it otherwise\n",
        "    multcol = 5\n",
        "\n",
        "    for y in range(height):\n",
        "            zy =   z_c_i+(((y-(height/2))/height)*zh*zoom)\n",
        "\n",
        "            for x in range(width):\n",
        "                zx = z_c_r+ (((x-(width/2))/width)*zw*zoom)\n",
        "\n",
        "                # Mapping real -> complex plane\n",
        "                z = complex(zx, zy)\n",
        "                \n",
        "                count = 0\n",
        "                \n",
        "                for i in range(niter):\n",
        "                    # complex numerical derivative\n",
        "                    dz = df(z,de)\n",
        "                    if dz == 0:\n",
        "                        break\n",
        "\n",
        "                    count += 1\n",
        "                    if count > 255:\n",
        "                        break\n",
        "                   \n",
        "                    znext = z - f(z,e) / dz # Newton iteration\n",
        "\n",
        "                    if abs(znext - z) < eps: # stop when close enough to any root\n",
        "                        break\n",
        "                    \n",
        "                    z = znext\n",
        "\n",
        "                # Pixels colored using the roots\n",
        "                if abs(z-r1)<eps:\n",
        "                    # color red\n",
        "                    pixels[height-y-1,x] = (255 - count*multcol, 0, 0)\n",
        "                else:   \n",
        "                    pixels[height-y-1,x] = (0, 0, 0)\n",
        " \n",
        "    return pixels"
      ],
      "execution_count": 28,
      "outputs": []
    },
    {
      "cell_type": "code",
      "metadata": {
        "id": "Ha8sHa6VLUjS",
        "outputId": "ee1712b2-ad6d-4312-83ab-8ae8afef7124",
        "colab": {
          "base_uri": "https://localhost:8080/",
          "height": 607
        }
      },
      "source": [
        "display1(1,1,\"(z-1)**2\",z_c_r=1, z_c_i=0, zoom=1/10)\n",
        "display1(1,1,\"(z-1)**2\",z_c_r=1, z_c_i=0, zoom=1/100)"
      ],
      "execution_count": 29,
      "outputs": [
        {
          "output_type": "stream",
          "text": [
            "Z region from ( 0.95 , -0.05 ) to ( 1.05 , 0.05 )\n"
          ],
          "name": "stdout"
        },
        {
          "output_type": "display_data",
          "data": {
            "image/png": "[encoded data removed]",
            "text/plain": [
              "<Figure size 432x288 with 1 Axes>"
            ]
          },
          "metadata": {
            "tags": [],
            "needs_background": "light"
          }
        },
        {
          "output_type": "stream",
          "text": [
            "Z region from ( 0.995 , -0.005 ) to ( 1.005 , 0.005 )\n"
          ],
          "name": "stdout"
        },
        {
          "output_type": "display_data",
          "data": {
            "image/png": "[encoded data removed]",
            "text/plain": [
              "<Figure size 432x288 with 1 Axes>"
            ]
          },
          "metadata": {
            "tags": [],
            "needs_background": "light"
          }
        }
      ]
    },
    {
      "cell_type": "markdown",
      "metadata": {
        "id": "UZU8IylBT8OY"
      },
      "source": [
        "\n",
        "\n",
        "*   $z^2-1$\n",
        "\n"
      ]
    },
    {
      "cell_type": "code",
      "metadata": {
        "id": "X0YmrXYnWUHp"
      },
      "source": [
        "def newton_set1(e, de,z_c_r=0, z_c_i=0, zh = 5, zw=5, width=500, height=500, zoom=1,  niter=256):\n",
        "    \"\"\" Fractals using newton-raphson \"\"\"\n",
        "\n",
        "    # Pixels array\n",
        "    pixels = np.arange(width*height*3, dtype=np.uint32).reshape(height, width, 3)\n",
        "\n",
        "    h = 1e-7 # step size for numerical derivative\n",
        "    eps = 1e-3 # max error allowed\n",
        "\n",
        "    # Bounding roots\n",
        "    r1 = -1\n",
        "    r2 =  1\n",
        "\n",
        "\n",
        "    # Color multiplication factor\n",
        "    # NOTE: Increasing this darkens the image and lightens it otherwise\n",
        "    multcol = 5\n",
        "\n",
        "    for y in range(height):\n",
        "            zy =   z_c_i+(((y-(height/2))/height)*zh*zoom)\n",
        "\n",
        "            for x in range(width):\n",
        "                zx = z_c_r+ (((x-(width/2))/width)*zw*zoom)\n",
        "\n",
        "                # Mapping real -> complex plane\n",
        "                z = complex(zx, zy)\n",
        "                \n",
        "                count = 0\n",
        "                \n",
        "                for i in range(niter):\n",
        "                    # complex numerical derivative\n",
        "                    dz = df(z,de)\n",
        "                    if dz == 0:\n",
        "                        break\n",
        "\n",
        "                    count += 1\n",
        "                    if count > 255:\n",
        "                        break\n",
        "                   \n",
        "                    znext = z - f(z,e) / dz # Newton iteration\n",
        "\n",
        "                    if abs(znext - z) < eps: # stop when close enough to any root\n",
        "                        break\n",
        "                    \n",
        "                    z = znext\n",
        "\n",
        "                # Pixels colored using the roots\n",
        "                if abs(z-r1)<eps:\n",
        "                    # color red\n",
        "                    pixels[height-y-1,x] = (255 - count*multcol, 0, 0)\n",
        "                elif abs(z-r2)<=eps:\n",
        "                    # color green\n",
        "                    pixels[height-y-1,x] = (0, 255 - count*multcol, 0)\n",
        "                else:   \n",
        "                    pixels[height-y-1,x] = (0, 0, 0)\n",
        " \n",
        "    return pixels"
      ],
      "execution_count": 30,
      "outputs": []
    },
    {
      "cell_type": "code",
      "metadata": {
        "id": "GTGhsVI9WoXE",
        "outputId": "b2748629-4215-430c-a702-19bc80566be0",
        "colab": {
          "base_uri": "https://localhost:8080/",
          "height": 312
        }
      },
      "source": [
        "display1(2,0,\"(z-1)**2\", zoom=5)"
      ],
      "execution_count": 31,
      "outputs": [
        {
          "output_type": "stream",
          "text": [
            "Z region from ( -2.5 , -2.5 ) to ( 2.5 , 2.5 )\n"
          ],
          "name": "stdout"
        },
        {
          "output_type": "display_data",
          "data": {
            "image/png": "[encoded data removed]",
            "text/plain": [
              "<Figure size 432x288 with 1 Axes>"
            ]
          },
          "metadata": {
            "tags": [],
            "needs_background": "light"
          }
        }
      ]
    },
    {
      "cell_type": "markdown",
      "metadata": {
        "id": "iJTPArENXwz7"
      },
      "source": [
        "\n",
        "\n",
        "*   $x^2+1$\n",
        "\n"
      ]
    },
    {
      "cell_type": "code",
      "metadata": {
        "id": "WvUAbBvWbZ66"
      },
      "source": [
        "def newton_set1(e, de,z_c_r=0, z_c_i=0, zh = 5, zw=5, width=500, height=500, zoom=1,  niter=256):\n",
        "    \"\"\" Fractals using newton-raphson \"\"\"\n",
        "\n",
        "    # Pixels array\n",
        "    pixels = np.arange(width*height*3, dtype=np.uint32).reshape(height, width, 3)\n",
        "\n",
        "    h = 1e-7 # step size for numerical derivative\n",
        "    eps = 1e-3 # max error allowed\n",
        "\n",
        "    # Bounding roots\n",
        "    r1 = 1j\n",
        "    r2 =  -1j\n",
        "\n",
        "\n",
        "    # Color multiplication factor\n",
        "    # NOTE: Increasing this darkens the image and lightens it otherwise\n",
        "    multcol = 5\n",
        "\n",
        "    for y in range(height):\n",
        "            zy =   z_c_i+(((y-(height/2))/height)*zh*zoom)\n",
        "\n",
        "            for x in range(width):\n",
        "                zx = z_c_r+ (((x-(width/2))/width)*zw*zoom)\n",
        "\n",
        "                # Mapping real -> complex plane\n",
        "                z = complex(zx, zy)\n",
        "                \n",
        "                count = 0\n",
        "                \n",
        "                for i in range(niter):\n",
        "                    # complex numerical derivative\n",
        "                    dz = df(z,de)\n",
        "                    if dz == 0:\n",
        "                        break\n",
        "\n",
        "                    count += 1\n",
        "                    if count > 255:\n",
        "                        break\n",
        "                   \n",
        "                    znext = z - f(z,e) / dz # Newton iteration\n",
        "\n",
        "                    if abs(znext - z) < eps: # stop when close enough to any root\n",
        "                        break\n",
        "                    \n",
        "                    z = znext\n",
        "\n",
        "                # Pixels colored using the roots\n",
        "                if abs(z-r1)<eps:\n",
        "                    # color red\n",
        "                    pixels[height-y-1,x] = (255 - count*multcol, 0, 0)\n",
        "                elif abs(z-r2)<=eps:\n",
        "                    # color green\n",
        "                    pixels[height-y-1,x] = (0, 255 - count*multcol, 0)\n",
        "                else:   \n",
        "                    pixels[height-y-1,x] = (0, 0, 0)\n",
        " \n",
        "    return pixels"
      ],
      "execution_count": 32,
      "outputs": []
    },
    {
      "cell_type": "code",
      "metadata": {
        "id": "egOpzaJrbl7r",
        "outputId": "92fd399c-c22d-487a-c80f-dd75b9efd471",
        "colab": {
          "base_uri": "https://localhost:8080/",
          "height": 312
        }
      },
      "source": [
        "display1(3,0,\"z^2+1\", zoom=5)"
      ],
      "execution_count": 33,
      "outputs": [
        {
          "output_type": "stream",
          "text": [
            "Z region from ( -2.5 , -2.5 ) to ( 2.5 , 2.5 )\n"
          ],
          "name": "stdout"
        },
        {
          "output_type": "display_data",
          "data": {
            "image/png": "[encoded data removed]",
            "text/plain": [
              "<Figure size 432x288 with 1 Axes>"
            ]
          },
          "metadata": {
            "tags": [],
            "needs_background": "light"
          }
        }
      ]
    },
    {
      "cell_type": "code",
      "metadata": {
        "id": "yDAoQkIYeIJK"
      },
      "source": [
        "def newtonrapshon(z,e,de, titulo):\n",
        "  r=[]\n",
        "  i=[]\n",
        "  for k in range(50):\n",
        "    dz = df(z, de)\n",
        "    z = z - f(z, e) / dz # Newton iteration\n",
        "    r.append(np.real(z))\n",
        "    i.append(np.imag(z))\n",
        "  plt.title(titulo)\n",
        "  plt.plot(r)\n",
        "  plt.ylabel('Real part')\n",
        "  plt.show()\n",
        "  plt.plot(i)\n",
        "  plt.ylabel('Imagnary part')\n",
        "  plt.show()"
      ],
      "execution_count": 34,
      "outputs": []
    },
    {
      "cell_type": "markdown",
      "metadata": {
        "id": "UkTFBDAbeKS1"
      },
      "source": [
        "\n",
        "\n",
        "4.   Grafique las iteraciones de Newton para los puntos en los ejes positivos y negativos para los polinomios cuadráticos complejos en el punto anterior, de una interpretación de los resultados\n"
      ]
    },
    {
      "cell_type": "markdown",
      "metadata": {
        "id": "gJbyI058jTx0"
      },
      "source": [
        "$x^2$"
      ]
    },
    {
      "cell_type": "code",
      "metadata": {
        "id": "KPbIIVGKkQXk"
      },
      "source": [
        "z= 10+0j\n",
        "titulo = 'Newton iterates form z=10.0 + 0.0j'"
      ],
      "execution_count": 35,
      "outputs": []
    },
    {
      "cell_type": "code",
      "metadata": {
        "id": "ctuSfVAtfuet",
        "outputId": "718aa151-9149-4da8-ebab-1c37a1a3033c",
        "colab": {
          "base_uri": "https://localhost:8080/",
          "height": 529
        }
      },
      "source": [
        "newtonrapshon(z, 0, 0, titulo)\n"
      ],
      "execution_count": 36,
      "outputs": [
        {
          "output_type": "display_data",
          "data": {
            "image/png": "[encoded data removed]",
            "text/plain": [
              "<Figure size 432x288 with 1 Axes>"
            ]
          },
          "metadata": {
            "tags": [],
            "needs_background": "light"
          }
        },
        {
          "output_type": "display_data",
          "data": {
            "image/png": "[encoded data removed]",
            "text/plain": [
              "<Figure size 432x288 with 1 Axes>"
            ]
          },
          "metadata": {
            "tags": [],
            "needs_background": "light"
          }
        }
      ]
    },
    {
      "cell_type": "markdown",
      "metadata": {
        "id": "ywmw3mBAj547"
      },
      "source": [
        "\n",
        "$(x-1)^2$\n",
        "\n"
      ]
    },
    {
      "cell_type": "code",
      "metadata": {
        "id": "qkMAdIMSkD7f",
        "outputId": "42f95c59-5e26-455a-c81c-96afa4daff13",
        "colab": {
          "base_uri": "https://localhost:8080/",
          "height": 529
        }
      },
      "source": [
        "newtonrapshon(z, 1, 1, titulo)"
      ],
      "execution_count": 37,
      "outputs": [
        {
          "output_type": "display_data",
          "data": {
            "image/png": "[encoded data removed]",
            "text/plain": [
              "<Figure size 432x288 with 1 Axes>"
            ]
          },
          "metadata": {
            "tags": [],
            "needs_background": "light"
          }
        },
        {
          "output_type": "display_data",
          "data": {
            "image/png": "[encoded data removed]",
            "text/plain": [
              "<Figure size 432x288 with 1 Axes>"
            ]
          },
          "metadata": {
            "tags": [],
            "needs_background": "light"
          }
        }
      ]
    },
    {
      "cell_type": "markdown",
      "metadata": {
        "id": "hVsd8Nu6kcHi"
      },
      "source": [
        "$x^2-1$\n",
        "\n"
      ]
    },
    {
      "cell_type": "code",
      "metadata": {
        "id": "jmA188AQkX60",
        "outputId": "4c75cd16-2f6c-44fb-a213-5bd2dcb1929c",
        "colab": {
          "base_uri": "https://localhost:8080/",
          "height": 1000
        }
      },
      "source": [
        "newtonrapshon(z, 2, 0,titulo)\n",
        "titulo='Newton iterates form z=-10.0 + 0.0j'\n",
        "newtonrapshon(-10+0j, 2, 0, titulo)"
      ],
      "execution_count": 38,
      "outputs": [
        {
          "output_type": "display_data",
          "data": {
            "image/png": "[encoded data removed]",
            "text/plain": [
              "<Figure size 432x288 with 1 Axes>"
            ]
          },
          "metadata": {
            "tags": [],
            "needs_background": "light"
          }
        },
        {
          "output_type": "display_data",
          "data": {
            "image/png": "[encoded data removed]",
            "text/plain": [
              "<Figure size 432x288 with 1 Axes>"
            ]
          },
          "metadata": {
            "tags": [],
            "needs_background": "light"
          }
        },
        {
          "output_type": "display_data",
          "data": {
            "image/png": "[encoded data removed]",
            "text/plain": [
              "<Figure size 432x288 with 1 Axes>"
            ]
          },
          "metadata": {
            "tags": [],
            "needs_background": "light"
          }
        },
        {
          "output_type": "display_data",
          "data": {
            "image/png": "[encoded data removed]",
            "text/plain": [
              "<Figure size 432x288 with 1 Axes>"
            ]
          },
          "metadata": {
            "tags": [],
            "needs_background": "light"
          }
        }
      ]
    },
    {
      "cell_type": "markdown",
      "metadata": {
        "id": "DUCFcfvKmSdF"
      },
      "source": [
        "$x^2+1$"
      ]
    },
    {
      "cell_type": "code",
      "metadata": {
        "id": "hUMfkqBInF99",
        "outputId": "0702ed8c-6bc9-4877-cd85-633a2ac67ea5",
        "colab": {
          "base_uri": "https://localhost:8080/",
          "height": 1000
        }
      },
      "source": [
        "z= 10+10j\n",
        "titulo= 'Newton iterates form z=10.0 + 10.0j'\n",
        "newtonrapshon(z, 3, 0, titulo)\n",
        "z= 10-10j\n",
        "titulo= 'Newton iterates form z=10.0 - 10.0j'\n",
        "newtonrapshon(z, 3, 0, titulo)"
      ],
      "execution_count": 39,
      "outputs": [
        {
          "output_type": "display_data",
          "data": {
            "image/png": "[encoded data removed]",
            "text/plain": [
              "<Figure size 432x288 with 1 Axes>"
            ]
          },
          "metadata": {
            "tags": [],
            "needs_background": "light"
          }
        },
        {
          "output_type": "display_data",
          "data": {
            "image/png": "[encoded data removed]",
            "text/plain": [
              "<Figure size 432x288 with 1 Axes>"
            ]
          },
          "metadata": {
            "tags": [],
            "needs_background": "light"
          }
        },
        {
          "output_type": "display_data",
          "data": {
            "image/png": "[encoded data removed]",
            "text/plain": [
              "<Figure size 432x288 with 1 Axes>"
            ]
          },
          "metadata": {
            "tags": [],
            "needs_background": "light"
          }
        },
        {
          "output_type": "display_data",
          "data": {
            "image/png": "[encoded data removed]",
            "text/plain": [
              "<Figure size 432x288 with 1 Axes>"
            ]
          },
          "metadata": {
            "tags": [],
            "needs_background": "light"
          }
        }
      ]
    },
    {
      "cell_type": "markdown",
      "metadata": {
        "id": "tWCvcjx6oiVE"
      },
      "source": [
        "El método de Newton Rapshon tanto en la parte real como imaginaria convergera a la raíz más próxima, por lo tanto no puede predecir si un polinomio tiene varias soluciones  \n",
        "En las primeras 3 expresiones al tener una solución real, en el método de Newton rapshon se ve una convergencia rápida en menos de 10 iteraciones, brindando una buena proximidad entre más cerca se encuentre el valor z de la raíz  \n",
        "En la 4 expresión al tener unicamente una solución compleja, se ve que en la gráfica de Newton Rapshon en la parte real que se tendrán valores que convergen a 0 cuando en realidad es un valor falso, mientras que en la parte compleja convierte correctamente al valor verdadero de la expresión"
      ]
    },
    {
      "cell_type": "markdown",
      "metadata": {
        "id": "bSqiGj6rp882"
      },
      "source": [
        "\n",
        "\n",
        "5.   Grafique las iteraciones de Newton para los puntos en las diagonales en los cuatro cuadrantes in con valor complejo 0.0 +0.0j para los polinomios dados en el ejercicio anterior, de una interpretación de los resultados.\n",
        "\n"
      ]
    },
    {
      "cell_type": "code",
      "metadata": {
        "id": "83paftBOqZzD"
      },
      "source": [
        "z= 0+0j"
      ],
      "execution_count": 41,
      "outputs": []
    },
    {
      "cell_type": "markdown",
      "metadata": {
        "id": "idtfLoCgqc7J"
      },
      "source": [
        "$(x-1)^2$"
      ]
    },
    {
      "cell_type": "code",
      "metadata": {
        "id": "ISAvrTvqqlMj",
        "outputId": "cfcfc8ec-cea8-4479-e3b1-7db256253b55",
        "colab": {
          "base_uri": "https://localhost:8080/",
          "height": 529
        }
      },
      "source": [
        "titulo='Newton iterates form z=0.0 + 0.0j'\n",
        "newtonrapshon(z, 1, 1, titulo)"
      ],
      "execution_count": 42,
      "outputs": [
        {
          "output_type": "display_data",
          "data": {
            "image/png": "[encoded data removed]",
            "text/plain": [
              "<Figure size 432x288 with 1 Axes>"
            ]
          },
          "metadata": {
            "tags": [],
            "needs_background": "light"
          }
        },
        {
          "output_type": "display_data",
          "data": {
            "image/png": "[encoded data removed]",
            "text/plain": [
              "<Figure size 432x288 with 1 Axes>"
            ]
          },
          "metadata": {
            "tags": [],
            "needs_background": "light"
          }
        }
      ]
    },
    {
      "cell_type": "markdown",
      "metadata": {
        "id": "mtEu-_BRrQxx"
      },
      "source": [
        "Debido a la formula de Newton Rapshon, para el caso particular en donde $z= 0+0j$ se tendrá que unicamente será funcional en caso de que $F'(x)\\neq 0$, de lo contrario se tendrá una división entre sero dando un resultado indeterminado. Por lo cual en las expresiones 1, 2 y 4 el resultado arrojará un error"
      ]
    }
  ]
}